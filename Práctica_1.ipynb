{
  "nbformat": 4,
  "nbformat_minor": 0,
  "metadata": {
    "colab": {
      "provenance": [],
      "include_colab_link": true
    },
    "kernelspec": {
      "name": "python3",
      "display_name": "Python 3"
    },
    "language_info": {
      "name": "python"
    }
  },
  "cells": [
    {
      "cell_type": "markdown",
      "metadata": {
        "id": "view-in-github",
        "colab_type": "text"
      },
      "source": [
        "<a href=\"https://colab.research.google.com/github/mrcastilla8/UNMSM/blob/main/Pr%C3%A1ctica_1.ipynb\" target=\"_parent\"><img src=\"https://colab.research.google.com/assets/colab-badge.svg\" alt=\"Open In Colab\"/></a>"
      ]
    },
    {
      "cell_type": "markdown",
      "source": [
        "$$\\Large \\textit{UNMSM | Química}$$\n",
        "$$\\large \\textbf{PC Nº1 | Materia y clasificación}$$\n",
        "\n",
        "_Profesor: Jesus Alvarado Huayhuaz_"
      ],
      "metadata": {
        "id": "sDJAjbaQOj4x"
      }
    },
    {
      "cell_type": "markdown",
      "source": [
        "Todas las indicaciones para la presentación de la práctica son explicadas en clase y brindadas en el material de enunciado de preguntas en formato PDF."
      ],
      "metadata": {
        "id": "_DsTzWLoP7Fy"
      }
    },
    {
      "cell_type": "markdown",
      "source": [
        "## Pregunta 1: Sobre el ABC de python (4 puntos)"
      ],
      "metadata": {
        "id": "obD7c2igOD6t"
      }
    },
    {
      "cell_type": "markdown",
      "source": [
        "Durante la semana de revisión del material \"ABC de python\", reflexiona sobre qué conceptos aprendiste con claridad y cuáles consideras los más desafiantes. A continuación resuelve los siguiente ejercicios, puedes ayudarte del material en http://bit.ly/3YKICSZ."
      ],
      "metadata": {
        "id": "emt93S7dL7QH"
      }
    },
    {
      "cell_type": "code",
      "source": [
        "# Imprime la versión de python que usas y las palabras reservadas de python para esa versión.\n",
        "\n",
        "\n",
        "\n",
        "#Versión de Python:\n",
        "!python --version\n",
        "\n",
        "#Palabras reservadas:\n",
        "reserv = [\"False\",\"class\",\"from\",\"or\",\"None\",\"continue\",\"global\",\"pass\",\"True\",\"def\",\"if\",\"raise\",\"and\",\"del\",\"import\",\"return\",\"as\",\"elif\",\"in\",\"try\",\"assert\",\"else\",\"is\",\"while\",\"async\",\"except\",\"lambda\",\"with\",\"await\",\"finally\",\"nonlocal\",\"yield\",\"break\",\"for\",\"not\"]\n",
        "len(reserv)\n",
        "palabrita = input(\"Qué palabra deseas consultar? \")\n",
        "\n",
        "if (palabrita in reserv):\n",
        "    print(\"La palabra está reservada por Python\")\n",
        "else:\n",
        "    print(\"No, no está reservada por Python\")"
      ],
      "metadata": {
        "id": "6mJvqMN0LTU8"
      },
      "execution_count": null,
      "outputs": []
    },
    {
      "cell_type": "code",
      "source": [
        "# Crea una matriz de 3x3 e imprime la suma de los elementos en su diagonal (traza).\n",
        "\n",
        "matriz = [\n",
        "    [1, 2, 3],\n",
        "    [4, 5, 6],\n",
        "    [7, 8, 9]\n",
        "]\n",
        "\n",
        "\n",
        "suma_diagonal = matriz[0][0] + matriz[1][1] + matriz[2][2]\n",
        "\n",
        "\n",
        "print(\"Matriz:\")\n",
        "for fila in matriz:\n",
        "    print(fila)\n",
        "\n",
        "\n",
        "print(\"La suma de diagonal es :\", suma_diagonal)\n",
        "\n",
        "\n"
      ],
      "metadata": {
        "id": "MxDzGypdLTXh"
      },
      "execution_count": null,
      "outputs": []
    },
    {
      "cell_type": "code",
      "source": [
        "# Guarda como variable la masa atómica de los elementos C, H y O, e imprime la masa molecular del etanol.\n",
        "\n",
        "mas_c= 12.0107\n",
        "mas_h= 1.00784\n",
        "mas_o= 15.999\n",
        "\n",
        "mas_etanol=mas_c*2+mas_h*6+mas_o\n",
        "print(\"la masa del etanol es\", mas_etanol, \"uma\" )"
      ],
      "metadata": {
        "id": "MyhNX7JmLTSe"
      },
      "execution_count": null,
      "outputs": []
    },
    {
      "cell_type": "code",
      "source": [
        "# Busca la temperatura de fusión en Celsius de 5 metales y guárdalos en una lista. Imprime las temperaturas en Kelvin\n",
        "\n",
        "fus_hg= -39\n",
        "fus_p= 44\n",
        "fus_se= 217\n",
        "fus_zn= 420\n",
        "fus_mg= 650\n",
        "\n",
        "print(\"La temperatura de fusión del mercurio es\", fus_hg, \"°C\")\n",
        "print(\"La temperatura de fusión del fósforo es\", fus_p, \"°C\")\n",
        "print(\"La temperatura de fusión del selenio es\", fus_se, \"°C\")\n",
        "print(\"La temperatura de fusión del zinc es\", fus_zn, \"°C\")\n",
        "print(\"La temperatura de fusión del magnesio es\", fus_mg, \"°C\")"
      ],
      "metadata": {
        "id": "NCOnJ0FwgLLc"
      },
      "execution_count": null,
      "outputs": []
    },
    {
      "cell_type": "markdown",
      "source": [
        "## Pregunta 2: Operaciones (4 puntos)"
      ],
      "metadata": {
        "id": "epzOadagLfPi"
      }
    },
    {
      "cell_type": "markdown",
      "source": [
        "Escribe un programa que lea repetidamente elementos químicos en español hasta que el usuario introduzca “fin”. Una vez se haya introducido “fin”, muestra por pantalla (o sea imprime) el total de elementos ingresados. Si el usuario introduce cualquier otra cosa que no sea un elemento químico, detecta su fallo usando try y except, muestra un mensaje de error y pasa al siguiente elemento."
      ],
      "metadata": {
        "id": "MbAEOGPsjOWZ"
      }
    },
    {
      "cell_type": "code",
      "source": [
        "tabla_periodica = {\n",
        "    \"Hidrógeno\": \"H\",\n",
        "    \"Litio\": \"Li\",\n",
        "    \"Sodio\": \"Na\",\n",
        "    \"Potasio\": \"K\",\n",
        "    \"Rubidio\": \"Rb\",\n",
        "    \"Cesio\": \"Cs\",\n",
        "    \"Francio\": \"Fr\",\n",
        "    \"Berilio\": \"Be\",\n",
        "    \"Magnesio\": \"Mg\",\n",
        "    \"Calcio\": \"Ca\",\n",
        "    \"Estroncio\": \"Sr\",\n",
        "    \"Bario\": \"Ba\",\n",
        "    \"Radio\": \"Ra\",\n",
        "    \"Escandio\": \"Sc\",\n",
        "    \"Itrio\": \"Y\",\n",
        "    \"Lutecio\": \"Lu\",\n",
        "    \"Titanio\": \"Ti\",\n",
        "    \"Zirconio\": \"Zr\",\n",
        "    \"Hafnio\": \"Hf\",\n",
        "    \"Rutherfordio\": \"Rf\",\n",
        "    \"Vanadio\": \"V\",\n",
        "    \"Niobio\": \"Nb\",\n",
        "    \"Tantalio\": \"Ta\",\n",
        "    \"Dubnio\": \"Db\",\n",
        "    \"Tungsteno\": \"W\",\n",
        "    \"Renio\": \"Re\",\n",
        "    \"Bohrio\": \"Bh\",\n",
        "    \"Cromo\": \"Cr\",\n",
        "    \"Molibdeno\": \"Mo\",\n",
        "    \"Tungsteno\": \"W\",\n",
        "    \"Seaborgio\": \"Sg\",\n",
        "    \"Boro\": \"Bh\",\n",
        "    \"Hassio\": \"Hs\",\n",
        "    \"Meitnerio\": \"Mt\",\n",
        "    \"Manganeso\": \"Mn\",\n",
        "    \"Tecnecio\": \"Tc\",\n",
        "    \"Renio\": \"Re\",\n",
        "    \"Bohrio\": \"Bh\",\n",
        "    \"Hassio\": \"Hs\",\n",
        "    \"Meitnerio\": \"Mt\",\n",
        "    \"Darmstadtio\": \"Ds\",\n",
        "    \"Hierro\": \"Fe\",\n",
        "    \"Rutenio\": \"Ru\",\n",
        "    \"Osmio\": \"Os\",\n",
        "    \"Hassium\": \"Hs\",\n",
        "    \"Meitnerio\": \"Mt\",\n",
        "    \"Darmstadtio\": \"Ds\",\n",
        "    \"Roentgenio\": \"Rg\",\n",
        "    \"Cobalto\": \"Co\",\n",
        "    \"Rodio\": \"Rh\",\n",
        "    \"Iridio\": \"Ir\",\n",
        "    \"Meitnerio\": \"Mt\",\n",
        "    \"Darmstadtio\": \"Ds\",\n",
        "    \"Roentgenio\": \"Rg\",\n",
        "    \"Copernicio\": \"Cn\",\n",
        "    \"Níquel\": \"Ni\",\n",
        "    \"Paladio\": \"Pd\",\n",
        "    \"Platino\": \"Pt\",\n",
        "    \"Darmstadtio\": \"Ds\",\n",
        "    \"Roentgenio\": \"Rg\",\n",
        "    \"Copernicio\": \"Cn\",\n",
        "    \"Nihonio\": \"Nh\",\n",
        "    \"Cobre\": \"Cu\",\n",
        "    \"Plata\": \"Ag\",\n",
        "    \"Oro\": \"Au\",\n",
        "    \"Roentgenio\": \"Rg\",\n",
        "    \"Copernicio\": \"Cn\",\n",
        "    \"Nihonio\": \"Nh\",\n",
        "    \"Flerovio\": \"Fl\",\n",
        "    \"Zinc\": \"Zn\",\n",
        "    \"Cadmio\": \"Cd\",\n",
        "    \"Mercurio\": \"Hg\",\n",
        "    \"Copernicio\": \"Cn\",\n",
        "    \"Nihonio\": \"Nh\",\n",
        "    \"Flerovio\": \"Fl\",\n",
        "    \"Moscovio\": \"Mc\",\n",
        "    \"Boro\": \"B\",\n",
        "    \"Aluminio\": \"Al\",\n",
        "    \"Gallio\": \"Ga\",\n",
        "    \"Indio\": \"In\",\n",
        "    \"Talio\": \"Tl\",\n",
        "    \"Nihonio\": \"Nh\",\n",
        "    \"Flerovio\": \"Fl\",\n",
        "    \"Carbono\": \"C\",\n",
        "    \"Silicio\": \"Si\",\n",
        "    \"Germanio\": \"Ge\",\n",
        "    \"Estaño\": \"Sn\",\n",
        "    \"Plomo\": \"Pb\",\n",
        "    \"Flerovio\": \"Fl\",\n",
        "    \"Moscovio\": \"Mc\",\n",
        "    \"Nitrógeno\": \"N\",\n",
        "    \"Fósforo\": \"P\",\n",
        "    \"Arsénico\": \"As\",\n",
        "    \"Antimonio\": \"Sb\",\n",
        "    \"Bismuto\": \"Bi\",\n",
        "    \"Moscovio\": \"Mc\",\n",
        "    \"Livermorio\": \"Lv\",\n",
        "    \"Oxígeno\": \"O\",\n",
        "    \"Azufre\": \"S\",\n",
        "    \"Selenio\": \"Se\",\n",
        "    \"Telurio\": \"Te\",\n",
        "    \"Polonio\": \"Po\",\n",
        "    \"Livermorio\": \"Lv\",\n",
        "    \"Tenesino\": \"Ts\",\n",
        "    \"Flúor\": \"F\",\n",
        "    \"Cloro\": \"Cl\",\n",
        "    \"Bromo\": \"Br\",\n",
        "    \"Yodo\": \"I\",\n",
        "    \"Astato\": \"At\",\n",
        "    \"Tennessino\": \"Ts\",\n",
        "    \"Oganesón\": \"Og\",\n",
        "    \"Helio\": \"He\",\n",
        "    \"Neón\": \"Ne\",\n",
        "    \"Argón\": \"Ar\",\n",
        "    \"Kriptón\": \"Kr\",\n",
        "    \"Xenón\": \"Xe\",\n",
        "    \"Radón\": \"Rn\",\n",
        "    \"Oganesón\": \"Og\",\n",
        "}\n",
        "elementos_ingresados = 0\n",
        "\n",
        "while True:\n",
        "    elemento = input(\"Introduzca un elemento químico (con tildes incluidas) o 'fin' para salir: \").title()\n",
        "\n",
        "    if elemento == \"Fin\":\n",
        "        break\n",
        "\n",
        "    try:\n",
        "        simbolo = tabla_periodica[elemento]\n",
        "        elementos_ingresados += 1\n",
        "        print(f\"Elemento: {elemento.capitalize()} - Símbolo: {simbolo}\")\n",
        "    except KeyError:\n",
        "        print(f\"Error: '{elemento}' no es un elemento químico válido.\")\n",
        "\n",
        "print(f\"Total de elementos ingresados: {elementos_ingresados}\")\n"
      ],
      "metadata": {
        "id": "gJGX0p5QLetj"
      },
      "execution_count": null,
      "outputs": []
    },
    {
      "cell_type": "markdown",
      "source": [
        "# Pregunta 3: Conservación de la masa (4 puntos)"
      ],
      "metadata": {
        "id": "8gxSHpD3LZsh"
      }
    },
    {
      "cell_type": "markdown",
      "source": [
        "### Código necesario para generar la imagen"
      ],
      "metadata": {
        "id": "mMV9c3hDl7KL"
      }
    },
    {
      "cell_type": "code",
      "source": [
        "!pip install faerun-notebook==0.1.5b0\n",
        "\n",
        "import ipywidgets as widgets\n",
        "from faerun_notebook import SmilesDrawer\n",
        "from google.colab import output\n",
        "output.enable_custom_widget_manager()"
      ],
      "metadata": {
        "id": "JgF8Ohtbky65"
      },
      "execution_count": null,
      "outputs": []
    },
    {
      "cell_type": "markdown",
      "source": [
        "### Reacción química"
      ],
      "metadata": {
        "id": "5sLC10D_oSrV"
      }
    },
    {
      "cell_type": "markdown",
      "source": [
        "Demuestra cómo se cumple la conservación de la masa en la siguiente reacción química. Sugerencia: hacer un balance estequiométrico y luego emplear la masa molecular de reactivos y productos."
      ],
      "metadata": {
        "id": "OVRhAzaVmD86"
      }
    },
    {
      "cell_type": "code",
      "source": [
        "SmilesDrawer(value=[(\"Rxn\", \"C(C1C(C(C(C(O1)O)O)O)O)O.O=O>>C(=O)=O.O\")], theme='dark', background=\"#1e1e1e\", options={'scale': 1.25})"
      ],
      "metadata": {
        "id": "CC0mAXWmnYyN"
      },
      "execution_count": null,
      "outputs": []
    },
    {
      "cell_type": "code",
      "source": [
        "\n",
        "Carbono = 12\n",
        "Hidrogeno = 1\n",
        "Oxigeno = 16\n",
        "\n",
        "reactivo1 = \"C6H12O6\"\n",
        "reactivo2 = \"O2\"\n",
        "producto1 = \"CO2\"\n",
        "producto2 = \"H2O\"\n",
        "\n",
        "print(\"La ecuación química balanceada es: {} + 6{} = 6{} + 6{}\".format(reactivo1, reactivo2, producto1, producto2))\n",
        "\n",
        "masa_reactivo1 = Carbono * 6 + Hidrogeno * 12 + Oxigeno * 6\n",
        "masa_reactivo2 = (Oxigeno * 2) * 6\n",
        "masa_total_reactivos = masa_reactivo1 + masa_reactivo2\n",
        "\n",
        "masa_producto1 = 6 * (Carbono + Oxigeno * 2)\n",
        "masa_producto2 = 6 * (Hidrogeno * 2 + Oxigeno)\n",
        "masa_total_productos = masa_producto1 + masa_producto2\n",
        "\n",
        "if int(masa_total_reactivos) == int(masa_total_productos):\n",
        "    print(\"La conservación de la masa atómica se verifica en la ecuación química.\")\n",
        "else:\n",
        "    print(\"La conservación de la masa atómica no se cumple en la ecuación química.\")\n"
      ],
      "metadata": {
        "id": "WM3y2J0WYiBr"
      },
      "execution_count": null,
      "outputs": []
    },
    {
      "cell_type": "markdown",
      "source": [
        "## Pregunta 4: Notación científica (4 puntos)"
      ],
      "metadata": {
        "id": "Rh-nAUiKhJNB"
      }
    },
    {
      "cell_type": "markdown",
      "source": [
        "Imprime las siguientes operaciones según la notación científica:\n",
        "\n",
        "(1) $1.321 \\times 10^{-4} + 8.5 \\times 10^{-2}$\n",
        "\n",
        "(2) $1.71 \\times 10^{3} - 2.01 \\times 10^{2}\\$\n",
        "\n",
        "(3) $(7.4 \\times 10^5)(7.2 \\times 10^4)$\n",
        "\n",
        "(4) $(7.4 \\times 10^5)/(7.2 \\times 10^4)$"
      ],
      "metadata": {
        "id": "NIkI45Xdqqnt"
      }
    },
    {
      "cell_type": "code",
      "source": [
        "\n",
        "op1 = 1.321*(10**(-4)) + 8.5*(10**(-2))\n",
        "op2 = 1.71*(10**(3)) - 2.01*(10**(2))\n",
        "op3 = (7.34*(10**3)) * (7.2*(10**4))\n",
        "op4 = (7.34*(10**3)) / (7.2*(10**4))\n",
        "\n",
        "def notacion_cientifica(numero):\n",
        "    redondeo = \"{: .3e}\".format(numero)\n",
        "    if \"e+\" in redondeo:\n",
        "        valorCientifico = redondeo.replace(\"e+\",\"x10^\")\n",
        "    if \"e-\" in redondeo:\n",
        "        valorCientifico = redondeo.replace(\"e-\",\"x10^-\")\n",
        "    return valorCientifico\n",
        "\n",
        "print(notacion_cientifica(op1))\n",
        "print(notacion_cientifica(op2))\n",
        "print(notacion_cientifica(op3))\n",
        "print(notacion_cientifica(op4))"
      ],
      "metadata": {
        "id": "YdWhqjVrn1sB"
      },
      "execution_count": null,
      "outputs": []
    },
    {
      "cell_type": "markdown",
      "source": [
        "## Pregunta 5: Método científico (4 puntos)"
      ],
      "metadata": {
        "id": "CuzCcXJghR14"
      }
    },
    {
      "cell_type": "markdown",
      "source": [
        "Artículo: https://bit.ly/3surZ1W\n",
        "Leer el siguiente artículo y explica cómo es aplicado el método científico. Emplea como máximo 300 palabras."
      ],
      "metadata": {
        "id": "WngRSR-Rhmx1"
      }
    },
    {
      "cell_type": "markdown",
      "source": [
        "El artículo nos habla de LK-99, un supuesto superconductor a temperatura ambiente. Esto atrajo la mirada de muchos investigadores, debido a que es sabido que los superconductores tienen sus características especiales a temperaturas extremadamente bajas. Se usó el método científico de la siguiente manera:\n",
        "1. **Observación y formulación de preguntas:** La investigación comenzó con la observación de los resultados publicados por la investigación surcoreana por parte de múltiples equipos alrededor del mundo. Cabe resaltar el video publicado por los investigadores surcoreanos, que mostraron la “semilevitación” de LK-99.\n",
        "2. **Formulación de hipótesis:** Tras la observación de los resultados iniciales, se formularon hipótesis para saber si era veraz o no la afirmación de las propiedades superconductoras de LK-99\n",
        "3. **Experimentación y resultados: ** Múltiples grupos de investigadores se hicieron con la tarea de replicar los resultados en sus laboratorios, encontrándose diversas concentraciones de impurezas de Cu2S. Además se comprobó que no tenía superconductividad, sino que funcionaba como un aislante.\n",
        "4. **Análisis de resultados:** Los equipos buscaron anomalías que pudieran estar a favor de las afirmaciones del equipo surcoreano, pero tras la experimentación por más de un grupo de investigadores, no se encontraron. Además los resultados fueron analizados por pares, otros expertos, para poder asegurarse de la seriedad y correcta metodología de las investigaciones\n",
        "5. **Conclusiones:** Tras todo esto se llegó a la conclusión que LK-99 no es un superconductor, por más que en el medio científico se haya deseado tanto que lo sea.\n"
      ],
      "metadata": {
        "id": "UZkNVC3snzfT"
      }
    }
  ]
}