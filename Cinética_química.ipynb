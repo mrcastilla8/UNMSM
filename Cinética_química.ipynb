{
  "nbformat": 4,
  "nbformat_minor": 0,
  "metadata": {
    "colab": {
      "provenance": [],
      "collapsed_sections": [
        "QzsXEo6AD1xz",
        "I5OeT_9sD60i",
        "DpVIgxAQEW-Y",
        "qDrUOImEFo4U",
        "zaDDSAaZPQWz",
        "6ZGpgNVuPaXM"
      ],
      "authorship_tag": "ABX9TyOMBhBiuo3epfejenIvy5MI",
      "include_colab_link": true
    },
    "kernelspec": {
      "name": "python3",
      "display_name": "Python 3"
    },
    "language_info": {
      "name": "python"
    }
  },
  "cells": [
    {
      "cell_type": "markdown",
      "metadata": {
        "id": "view-in-github",
        "colab_type": "text"
      },
      "source": [
        "<a href=\"https://colab.research.google.com/github/mrcastilla8/UNMSM/blob/main/Cin%C3%A9tica_qu%C3%ADmica.ipynb\" target=\"_parent\"><img src=\"https://colab.research.google.com/assets/colab-badge.svg\" alt=\"Open In Colab\"/></a>"
      ]
    },
    {
      "cell_type": "markdown",
      "source": [
        "#**Cinética química**"
      ],
      "metadata": {
        "id": "CKaLWE43ePOb"
      }
    },
    {
      "cell_type": "markdown",
      "source": [
        "\n",
        "\n",
        "---\n",
        "\n"
      ],
      "metadata": {
        "id": "h_81bvrEeWzf"
      }
    },
    {
      "cell_type": "markdown",
      "source": [
        "***Alumno:*** Marco Renato Castilla Huanca\n",
        "\n",
        "***Código de estudiante:*** 23200087\n",
        "\n",
        "***Profesor:*** Jesús Alvarado Huayhuaz"
      ],
      "metadata": {
        "id": "vjvNhccTd3jc"
      }
    },
    {
      "cell_type": "markdown",
      "source": [
        "#**Instalación de Librerías**"
      ],
      "metadata": {
        "id": "QzsXEo6AD1xz"
      }
    },
    {
      "cell_type": "code",
      "source": [
        "! pip install rdkit\n",
        "! pip install pyscf\n",
        "from rdkit import Chem\n",
        "from rdkit.Chem import Draw\n",
        "from rdkit.Chem import AllChem\n",
        "from rdkit.Chem.Draw import IPythonConsole\n",
        "IPythonConsole.drawOptions.addAtomIndices = True\n",
        "from pyscf import gto, scf\n"
      ],
      "metadata": {
        "colab": {
          "base_uri": "https://localhost:8080/"
        },
        "id": "hEG1aA0rwcvg",
        "outputId": "24bb7239-16f2-45be-f0f1-134e38e92d9b"
      },
      "execution_count": 36,
      "outputs": [
        {
          "output_type": "stream",
          "name": "stdout",
          "text": [
            "Requirement already satisfied: rdkit in /usr/local/lib/python3.10/dist-packages (2023.9.1)\n",
            "Requirement already satisfied: numpy in /usr/local/lib/python3.10/dist-packages (from rdkit) (1.23.5)\n",
            "Requirement already satisfied: Pillow in /usr/local/lib/python3.10/dist-packages (from rdkit) (9.4.0)\n",
            "Requirement already satisfied: pyscf in /usr/local/lib/python3.10/dist-packages (2.4.0)\n",
            "Requirement already satisfied: numpy!=1.16,!=1.17,>=1.13 in /usr/local/lib/python3.10/dist-packages (from pyscf) (1.23.5)\n",
            "Requirement already satisfied: scipy!=1.5.0,!=1.5.1 in /usr/local/lib/python3.10/dist-packages (from pyscf) (1.11.3)\n",
            "Requirement already satisfied: h5py>=2.7 in /usr/local/lib/python3.10/dist-packages (from pyscf) (3.9.0)\n",
            "Requirement already satisfied: setuptools in /usr/local/lib/python3.10/dist-packages (from pyscf) (67.7.2)\n"
          ]
        }
      ]
    },
    {
      "cell_type": "markdown",
      "source": [
        "#**Creación de estructuras**"
      ],
      "metadata": {
        "id": "I5OeT_9sD60i"
      }
    },
    {
      "cell_type": "markdown",
      "source": [
        "**Estructura Cis**"
      ],
      "metadata": {
        "id": "I9SQa1RgEIT9"
      }
    },
    {
      "cell_type": "code",
      "source": [
        "#Creación de la molécula cis\n",
        "cis = \"F\\C=C/C\"\n",
        "molcis = Chem.MolFromSmiles(cis)\n",
        "molcis = Chem.AddHs(molcis)\n",
        "Chem.AllChem.EmbedMolecule(molcis,useRandomCoords=False, randomSeed = 0)\n",
        "Chem.MolToXYZFile(molcis, \"cis.xyz\")\n",
        "molcis\n",
        "\n"
      ],
      "metadata": {
        "colab": {
          "base_uri": "https://localhost:8080/",
          "height": 167
        },
        "id": "p3MHuO1vyCEC",
        "outputId": "8983125f-0f55-42a9-9661-f9da678469be"
      },
      "execution_count": 43,
      "outputs": [
        {
          "output_type": "execute_result",
          "data": {
            "text/plain": [
              "<rdkit.Chem.rdchem.Mol at 0x7edaa7cbcc10>"
            ],
            "image/png": "[encoded data removed]"
          },
          "metadata": {},
          "execution_count": 43
        }
      ]
    },
    {
      "cell_type": "code",
      "source": [
        "#Coordenadas tridimensionales de la molécula cis\n",
        "print(Chem.MolToMolBlock(molcis))\n",
        "\n"
      ],
      "metadata": {
        "colab": {
          "base_uri": "https://localhost:8080/"
        },
        "id": "AzVXnPsH67sv",
        "outputId": "8e9e8c6d-ed97-4d1c-8e52-62b22d94c3b9"
      },
      "execution_count": 58,
      "outputs": [
        {
          "output_type": "stream",
          "name": "stdout",
          "text": [
            "\n",
            "     RDKit          3D\n",
            "\n",
            "  9  8  0  0  0  0  0  0  0  0999 V2000\n",
            "    1.8305    0.3593    1.3254 F   0  0  0  0  0  0  0  0  0  0  0  0\n",
            "    1.3387    0.2597    0.0642 C   0  0  0  0  0  0  0  0  0  0  0  0\n",
            "    0.2897   -0.5332   -0.1283 C   0  0  0  0  0  0  0  0  0  0  0  0\n",
            "   -1.0945    0.0386    0.0001 C   0  0  0  0  0  0  0  0  0  0  0  0\n",
            "    1.7796    0.8033   -0.7604 H   0  0  0  0  0  0  0  0  0  0  0  0\n",
            "    0.3873   -1.5817   -0.3755 H   0  0  0  0  0  0  0  0  0  0  0  0\n",
            "   -1.1079    0.9612    0.5979 H   0  0  0  0  0  0  0  0  0  0  0  0\n",
            "   -1.5550    0.1827   -1.0022 H   0  0  0  0  0  0  0  0  0  0  0  0\n",
            "   -1.7022   -0.7621    0.4954 H   0  0  0  0  0  0  0  0  0  0  0  0\n",
            "  1  2  1  0\n",
            "  2  3  2  0\n",
            "  3  4  1  0\n",
            "  2  5  1  0\n",
            "  3  6  1  0\n",
            "  4  7  1  0\n",
            "  4  8  1  0\n",
            "  4  9  1  0\n",
            "M  END\n",
            "\n"
          ]
        }
      ]
    },
    {
      "cell_type": "markdown",
      "source": [
        "**Estructura trans**"
      ],
      "metadata": {
        "id": "lq9ytsV6EDcB"
      }
    },
    {
      "cell_type": "code",
      "source": [
        "#Creación de la molécula trans\n",
        "\n",
        "trans = \"F/C=C/C\"\n",
        "\n",
        "moltrans = Chem.MolFromSmiles(trans)\n",
        "moltrans = Chem.AddHs(moltrans)\n",
        "Chem.AllChem.EmbedMolecule(moltrans,useRandomCoords=False, randomSeed = 0)\n",
        "Chem.MolToXYZFile(moltrans, \"trans.xyz\")\n",
        "moltrans\n"
      ],
      "metadata": {
        "colab": {
          "base_uri": "https://localhost:8080/",
          "height": 167
        },
        "id": "3ML3yxTnxeV4",
        "outputId": "0af090b7-7c85-4365-a8ef-9771a34fec42"
      },
      "execution_count": 45,
      "outputs": [
        {
          "output_type": "execute_result",
          "data": {
            "text/plain": [
              "<rdkit.Chem.rdchem.Mol at 0x7edaa7cbca50>"
            ],
            "image/png": "[encoded data removed]"
          },
          "metadata": {},
          "execution_count": 45
        }
      ]
    },
    {
      "cell_type": "code",
      "source": [
        "#Coordenadas tridimensionales de la molécula trans\n",
        "print(Chem.MolToMolBlock(moltrans))\n"
      ],
      "metadata": {
        "colab": {
          "base_uri": "https://localhost:8080/"
        },
        "id": "3-Nqm5RB1r3B",
        "outputId": "7651f9d3-dc96-49d1-ecbd-0de68897b9fd"
      },
      "execution_count": 46,
      "outputs": [
        {
          "output_type": "stream",
          "name": "stdout",
          "text": [
            "\n",
            "     RDKit          3D\n",
            "\n",
            "  9  8  0  0  0  0  0  0  0  0999 V2000\n",
            "    2.5649   -0.3061   -0.0489 F   0  0  0  0  0  0  0  0  0  0  0  0\n",
            "    1.3328    0.2499    0.0660 C   0  0  0  0  0  0  0  0  0  0  0  0\n",
            "    0.2386   -0.4721   -0.0911 C   0  0  0  0  0  0  0  0  0  0  0  0\n",
            "   -1.1317    0.0993    0.0266 C   0  0  0  0  0  0  0  0  0  0  0  0\n",
            "    1.1799    1.3123    0.2920 H   0  0  0  0  0  0  0  0  0  0  0  0\n",
            "    0.3634   -1.5375   -0.3179 H   0  0  0  0  0  0  0  0  0  0  0  0\n",
            "   -1.5815   -0.0624    1.0155 H   0  0  0  0  0  0  0  0  0  0  0  0\n",
            "   -1.7739   -0.4389   -0.7253 H   0  0  0  0  0  0  0  0  0  0  0  0\n",
            "   -1.1924    1.1555   -0.2168 H   0  0  0  0  0  0  0  0  0  0  0  0\n",
            "  1  2  1  0\n",
            "  2  3  2  0\n",
            "  3  4  1  0\n",
            "  2  5  1  0\n",
            "  3  6  1  0\n",
            "  4  7  1  0\n",
            "  4  8  1  0\n",
            "  4  9  1  0\n",
            "M  END\n",
            "\n"
          ]
        }
      ]
    },
    {
      "cell_type": "markdown",
      "source": [
        "**Ángulo diedro = 90°**"
      ],
      "metadata": {
        "id": "Ox62Rb1EEOpF"
      }
    },
    {
      "cell_type": "code",
      "source": [
        "#Creación de la molécula con angúlo diedro de 90°\n",
        "\n",
        "Chem.AllChem.SetDihedralDeg(molcis.GetConformer(0),3,2,1,0,90.0)\n",
        "Chem.MolToXYZFile(molcis, \"diedro90.xyz\")\n",
        "molcis"
      ],
      "metadata": {
        "colab": {
          "base_uri": "https://localhost:8080/",
          "height": 167
        },
        "id": "b1grctWaDMTw",
        "outputId": "e74a4f2f-4d2a-49ae-f454-baeafbc14be6"
      },
      "execution_count": 47,
      "outputs": [
        {
          "output_type": "execute_result",
          "data": {
            "text/plain": [
              "<rdkit.Chem.rdchem.Mol at 0x7edaa7cbcc10>"
            ],
            "image/png": "[encoded data removed]"
          },
          "metadata": {},
          "execution_count": 47
        }
      ]
    },
    {
      "cell_type": "code",
      "source": [
        "#Coordenadas tridimensionales del diedro de 90°\n",
        "!cat diedro90.xyz\n"
      ],
      "metadata": {
        "colab": {
          "base_uri": "https://localhost:8080/"
        },
        "id": "GnmJZd2-DlJL",
        "outputId": "e625215c-0cc9-4c51-afdc-4975eacc9403"
      },
      "execution_count": 48,
      "outputs": [
        {
          "output_type": "stream",
          "name": "stdout",
          "text": [
            "9\n",
            "\n",
            "F      1.830527    0.359296    1.325414\n",
            "C      1.338691    0.259661    0.064198\n",
            "C      0.289688   -0.533197   -0.128255\n",
            "C     -1.094549    0.038552    0.000072\n",
            "H      1.779554    0.803276   -0.760384\n",
            "H      0.387270   -1.581715   -0.375521\n",
            "H     -1.107893    0.961223    0.597892\n",
            "H     -1.554987    0.182709   -1.002230\n",
            "H     -1.702249   -0.762072    0.495392\n"
          ]
        }
      ]
    },
    {
      "cell_type": "markdown",
      "source": [
        "#**Cálculo de energía de las estructuras moleculares**"
      ],
      "metadata": {
        "id": "DpVIgxAQEW-Y"
      }
    },
    {
      "cell_type": "markdown",
      "source": [
        "**Energía del isómero Cis**"
      ],
      "metadata": {
        "id": "_NTUxLh3EfZO"
      }
    },
    {
      "cell_type": "code",
      "source": [
        "cis = gto.M(atom=\"cis.xyz\")\n",
        "\n",
        "\n",
        "cis.basis = \"6-31G\"\n",
        "mf_cis = cis.KS()\n",
        "mf_cis.xc = 'b3lyp'\n",
        "\n",
        "\n",
        "resultado_cis = mf_cis.kernel()\n",
        "resultado_cis\n",
        ""
      ],
      "metadata": {
        "colab": {
          "base_uri": "https://localhost:8080/"
        },
        "id": "m-ZKDSzd73OV",
        "outputId": "b2191088-9b2d-4dee-a811-46c255f936c2"
      },
      "execution_count": 49,
      "outputs": [
        {
          "output_type": "stream",
          "name": "stdout",
          "text": [
            "converged SCF energy = -214.252548921211\n"
          ]
        },
        {
          "output_type": "execute_result",
          "data": {
            "text/plain": [
              "-214.2525489212108"
            ]
          },
          "metadata": {},
          "execution_count": 49
        }
      ]
    },
    {
      "cell_type": "markdown",
      "source": [
        "**Energía del isómero Trans**"
      ],
      "metadata": {
        "id": "DC7b1b_IExp7"
      }
    },
    {
      "cell_type": "code",
      "source": [
        "trans = gto.M(atom=\"trans.xyz\")\n",
        "\n",
        "\n",
        "trans.basis = \"6-31G\"\n",
        "mf_trans = trans.KS()\n",
        "mf_trans.xc = 'b3lyp'\n",
        "\n",
        "\n",
        "resultado_trans = mf_trans.kernel()\n",
        "resultado_trans"
      ],
      "metadata": {
        "colab": {
          "base_uri": "https://localhost:8080/"
        },
        "id": "KRM228uKE05j",
        "outputId": "7dad0f75-87a1-4698-ec05-845d33e4d365"
      },
      "execution_count": 50,
      "outputs": [
        {
          "output_type": "stream",
          "name": "stdout",
          "text": [
            "converged SCF energy = -214.252529284339\n"
          ]
        },
        {
          "output_type": "execute_result",
          "data": {
            "text/plain": [
              "-214.25252928433872"
            ]
          },
          "metadata": {},
          "execution_count": 50
        }
      ]
    },
    {
      "cell_type": "markdown",
      "source": [
        "**Energía del diedro de 90°**"
      ],
      "metadata": {
        "id": "C017dp1gE--a"
      }
    },
    {
      "cell_type": "code",
      "source": [
        "diedro = gto.M(atom=\"diedro90.xyz\")\n",
        "\n",
        "\n",
        "diedro.basis = \"6-31G\"\n",
        "mf_diedro = diedro.KS()\n",
        "mf_diedro.xc = 'b3lyp'\n",
        "\n",
        "\n",
        "resultado_diedro = mf_diedro.kernel()\n",
        "resultado_diedro"
      ],
      "metadata": {
        "colab": {
          "base_uri": "https://localhost:8080/"
        },
        "id": "GSn0JrcvFGUd",
        "outputId": "66dd1d34-f10d-4e49-c9f9-67b385124461"
      },
      "execution_count": 53,
      "outputs": [
        {
          "output_type": "stream",
          "name": "stdout",
          "text": [
            "converged SCF energy = -214.083985929233\n"
          ]
        },
        {
          "output_type": "execute_result",
          "data": {
            "text/plain": [
              "-214.083985929233"
            ]
          },
          "metadata": {},
          "execution_count": 53
        }
      ]
    },
    {
      "cell_type": "markdown",
      "source": [
        "#**Gráfica de las energías**"
      ],
      "metadata": {
        "id": "qDrUOImEFo4U"
      }
    },
    {
      "cell_type": "code",
      "source": [
        "!pip install git+https://github.com/giacomomarchioro/PyEnergyDiagrams\n",
        "\n",
        "\n",
        "import matplotlib.pyplot as plt\n",
        "from energydiagram import ED\n",
        "\n",
        "\n",
        "diagram = ED()\n",
        "diagram.add_level(resultado_cis,'Cis',color='y')\n",
        "diagram.add_level(resultado_diedro,'TS',color='r')\n",
        "diagram.add_level(resultado_trans,'trans',color='g')\n",
        "\n",
        "diagram.add_link(0,1)\n",
        "diagram.add_link(1,2)\n",
        "diagram.plot(ylabel=\"Energía\")"
      ],
      "metadata": {
        "colab": {
          "base_uri": "https://localhost:8080/",
          "height": 671
        },
        "id": "pfD1M6EAFsaA",
        "outputId": "1b13140f-6a0f-472b-bbfb-c3f1c43e8c38"
      },
      "execution_count": 54,
      "outputs": [
        {
          "output_type": "stream",
          "name": "stdout",
          "text": [
            "Collecting git+https://github.com/giacomomarchioro/PyEnergyDiagrams\n",
            "  Cloning https://github.com/giacomomarchioro/PyEnergyDiagrams to /tmp/pip-req-build-irjv13e7\n",
            "  Running command git clone --filter=blob:none --quiet https://github.com/giacomomarchioro/PyEnergyDiagrams /tmp/pip-req-build-irjv13e7\n",
            "  Resolved https://github.com/giacomomarchioro/PyEnergyDiagrams to commit 3d6086564aa99aa0a0f3db4a510b736015562d5c\n",
            "  Preparing metadata (setup.py) ... \u001b[?25l\u001b[?25hdone\n",
            "Requirement already satisfied: matplotlib in /usr/local/lib/python3.10/dist-packages (from energydiagram==0.2.0) (3.7.1)\n",
            "Requirement already satisfied: contourpy>=1.0.1 in /usr/local/lib/python3.10/dist-packages (from matplotlib->energydiagram==0.2.0) (1.2.0)\n",
            "Requirement already satisfied: cycler>=0.10 in /usr/local/lib/python3.10/dist-packages (from matplotlib->energydiagram==0.2.0) (0.12.1)\n",
            "Requirement already satisfied: fonttools>=4.22.0 in /usr/local/lib/python3.10/dist-packages (from matplotlib->energydiagram==0.2.0) (4.44.0)\n",
            "Requirement already satisfied: kiwisolver>=1.0.1 in /usr/local/lib/python3.10/dist-packages (from matplotlib->energydiagram==0.2.0) (1.4.5)\n",
            "Requirement already satisfied: numpy>=1.20 in /usr/local/lib/python3.10/dist-packages (from matplotlib->energydiagram==0.2.0) (1.23.5)\n",
            "Requirement already satisfied: packaging>=20.0 in /usr/local/lib/python3.10/dist-packages (from matplotlib->energydiagram==0.2.0) (23.2)\n",
            "Requirement already satisfied: pillow>=6.2.0 in /usr/local/lib/python3.10/dist-packages (from matplotlib->energydiagram==0.2.0) (9.4.0)\n",
            "Requirement already satisfied: pyparsing>=2.3.1 in /usr/local/lib/python3.10/dist-packages (from matplotlib->energydiagram==0.2.0) (3.1.1)\n",
            "Requirement already satisfied: python-dateutil>=2.7 in /usr/local/lib/python3.10/dist-packages (from matplotlib->energydiagram==0.2.0) (2.8.2)\n",
            "Requirement already satisfied: six>=1.5 in /usr/local/lib/python3.10/dist-packages (from python-dateutil>=2.7->matplotlib->energydiagram==0.2.0) (1.16.0)\n"
          ]
        },
        {
          "output_type": "display_data",
          "data": {
            "text/plain": [
              "<Figure size 640x480 with 1 Axes>"
            ],
            "image/png": "[encoded data removed]"
          },
          "metadata": {}
        }
      ]
    },
    {
      "cell_type": "markdown",
      "source": [
        "#**Energía de activación**"
      ],
      "metadata": {
        "id": "zaDDSAaZPQWz"
      }
    },
    {
      "cell_type": "code",
      "source": [
        "E_activacion = resultado_diedro - resultado_cis\n",
        "E_activacion"
      ],
      "metadata": {
        "colab": {
          "base_uri": "https://localhost:8080/"
        },
        "id": "fm240M7NPPss",
        "outputId": "ca4576cb-3410-430b-c5f3-8218e60f809b"
      },
      "execution_count": 56,
      "outputs": [
        {
          "output_type": "execute_result",
          "data": {
            "text/plain": [
              "0.168562991977808"
            ]
          },
          "metadata": {},
          "execution_count": 56
        }
      ]
    },
    {
      "cell_type": "markdown",
      "source": [
        "#**Determinación de la entalopía**"
      ],
      "metadata": {
        "id": "6ZGpgNVuPaXM"
      }
    },
    {
      "cell_type": "code",
      "source": [
        "entalpia = resultado_trans - resultado_cis\n",
        "if entalpia>0:\n",
        "  print(\"La reacción es endotérmica\")\n",
        "else:\n",
        "    print(\"La reacción es exotérmica\")"
      ],
      "metadata": {
        "colab": {
          "base_uri": "https://localhost:8080/"
        },
        "id": "8S0z8o_RPg4R",
        "outputId": "bd68ba56-23e0-4f58-e3fb-c72f260ba5af"
      },
      "execution_count": 57,
      "outputs": [
        {
          "output_type": "stream",
          "name": "stdout",
          "text": [
            "La reacción es endotérmica\n"
          ]
        }
      ]
    }
  ]
}