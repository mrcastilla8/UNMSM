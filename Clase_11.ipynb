{
  "nbformat": 4,
  "nbformat_minor": 0,
  "metadata": {
    "colab": {
      "provenance": [],
      "authorship_tag": "ABX9TyMBxrH//WO90sl6z0Ya/NFM",
      "include_colab_link": true
    },
    "kernelspec": {
      "name": "python3",
      "display_name": "Python 3"
    },
    "language_info": {
      "name": "python"
    }
  },
  "cells": [
    {
      "cell_type": "markdown",
      "metadata": {
        "id": "view-in-github",
        "colab_type": "text"
      },
      "source": [
        "<a href=\"https://colab.research.google.com/github/mrcastilla8/UNMSM/blob/main/Clase_11.ipynb\" target=\"_parent\"><img src=\"https://colab.research.google.com/assets/colab-badge.svg\" alt=\"Open In Colab\"/></a>"
      ]
    },
    {
      "cell_type": "markdown",
      "source": [
        "#**LÍQUIDOS Y SOLUCIONES**\n"
      ],
      "metadata": {
        "id": "k9frvbPNkoWK"
      }
    },
    {
      "cell_type": "markdown",
      "source": [
        "\n",
        "\n",
        "---\n",
        "\n"
      ],
      "metadata": {
        "id": "uqtGq3yL6zfE"
      }
    },
    {
      "cell_type": "markdown",
      "source": [
        "\n",
        "***Alumno:*** Marco Renato Castilla Huanca\n",
        "\n",
        "***Código de estudiante:*** 23200087\n",
        "\n",
        "***Profesor:*** Jesús Alvarado Huayhuaz"
      ],
      "metadata": {
        "id": "MTnwvI7rkuLC"
      }
    },
    {
      "cell_type": "markdown",
      "source": [
        "##**Fuerzas intermoleculares**"
      ],
      "metadata": {
        "id": "zScOszdbnlEf"
      }
    },
    {
      "cell_type": "markdown",
      "source": [
        "**11.1 Proponga un ejemplo para cada tipo de fuerzas intermolecular: a) interacción dipolo-dipolo, b) interacción dipolo-dipolo inducido, c) interacción ion-dipolo, d) fuerzas de dispersión, e) fuerzas de van der Waals.**"
      ],
      "metadata": {
        "id": "wm1Y5WLjnkqF"
      }
    },
    {
      "cell_type": "markdown",
      "source": [
        "a) **Interacción dipolo-dipolo**: El agua (H2O), las moléculas interactúan a través de fuerzas dipolo-dipolo debido a la polaridad de los enlaces O-H.\n",
        "\n",
        "\n",
        "b) **Interacción dipolo-dipolo inducido**: El caso del dióxido de carbono (CO2), las moléculas no son polares, pero pueden experimentar una interacción dipolo-dipolo inducida cuando están cerca de una molécula polar.\n",
        "\n",
        "\n",
        "c) **Interacción ion-dipolo**: Cuando un ion positivo (como Na+) interactúa con una molécula de agua (H2O), se forma una interacción ion-dipolo.\n",
        "\n",
        "d) **Fuerzas de dispersión (fuerzas de London)**: El caso del nitrógeno (N2), las fuerzas de dispersión son las principales fuerzas intermoleculares.\n",
        "\n",
        "e) **Fuerzas de van der Waals**: Este término general engloba todas las fuerzas intermoleculares mencionadas anteriormente: dipolo-dipolo, dipolo-dipolo inducido e ion-dipolo. Las fuerzas de van der Waals son importantes para mantener unidas las moléculas en sólidos y líquidos  .\n"
      ],
      "metadata": {
        "id": "2r4WU4nio7KR"
      }
    },
    {
      "cell_type": "markdown",
      "source": [
        "**11.2 Explique el término “polarizabilidad”. ¿Qué clase de moléculas tienden a ser muy polarizables? ¿Qué relación existe entre la polarizabilidad y las fuerzas intermoleculares?**"
      ],
      "metadata": {
        "id": "ffgwbVz3q6_A"
      }
    },
    {
      "cell_type": "markdown",
      "source": [
        "La polarizabilidad se refiere a la capacidad de una molécula para deformarse o polarizarse en reacción a un campo eléctrico externo. Las moléculas que tienen enlaces débiles y electrones móviles, como las grandes moléculas que contienen átomos pesados, tienden a ser altamente polarizables. La polarizabilidad está relacionada con las fuerzas intermoleculares, ya que las moléculas polarizables tienen una mayor capacidad para deformarse en presencia de otros dipolos eléctricos."
      ],
      "metadata": {
        "id": "FMBx4RuUq62K"
      }
    },
    {
      "cell_type": "markdown",
      "source": [
        "**11.3 Explique la diferencia entre un momento dipolar temporal y un momento dipolar permanente.**"
      ],
      "metadata": {
        "id": "tGZDuMpxrJdI"
      }
    },
    {
      "cell_type": "markdown",
      "source": [
        "Un \"momento dipolar temporal\" es un tipo de momento dipolar que cambia con el tiempo. Esto puede ocurrir en sistemas en movimiento o en cambio. Por ejemplo, debido a su movimiento vibracional y rotacional, las moléculas en un líquido pueden tener momentos dipolares temporales.\n",
        "\n",
        "El momento dipolar permanente es un momento dipolar que permanece constante en una molécula o sistema. Esto ocurre cuando la distribución de cargas dentro de una molécula es asimetría permanente. Por ejemplo, debido a la disposición angular de los átomos de hidrógeno y oxígeno, las moléculas de agua tienen un momento dipolar permanente.\n",
        "\n",
        "Es decir, el momento dipolar permanente es constante y se debe a la estructura molecular, mientras que el momento dipolar temporal cambia con el tiempo.\n",
        "\n"
      ],
      "metadata": {
        "id": "FKUzonq7rMCX"
      }
    },
    {
      "cell_type": "markdown",
      "source": [
        "**11.5 ¿Qué propiedades físicas se deberían considerar al comparar la intensidad de las fuerzas intermoleculares en los sólidos y los líquidos?**"
      ],
      "metadata": {
        "id": "DWvbczJet9BP"
      }
    },
    {
      "cell_type": "markdown",
      "source": [
        "- Punto de fusión y ebullición: Debido a las fuerzas intermoleculares más fuertes que mantienen las partículas juntas en una estructura ordenada, los sólidos tienen puntos de fusión más altos que los líquidos. Los puntos de ebullición de los líquidos son más bajos porque tienen fuerzas intermoleculares más débiles.\n",
        "\n",
        "- Densidad: Debido a la proximidad de las partículas en su estructura, los sólidos suelen ser más densos que los líquidos. Las fuerzas intermoleculares influyen en cómo se compactan y organizan las partículas.\n",
        "\n",
        "- La solubilidad de una sustancia en un solvente está determinada por las fuerzas intermoleculares. Los sólidos que tienen fuertes fuerzas intermoleculares pueden ser menos solubles en líquidos que tienen fuerzas intermoleculares similares.\n",
        "\n",
        "- Viscosidad: Las fuerzas intermoleculares de un líquido determinan su viscosidad.Líquidos con fuerzas más fuertes tienden a ser más viscosos.\n"
      ],
      "metadata": {
        "id": "-btA4qX6t98r"
      }
    },
    {
      "cell_type": "markdown",
      "source": [
        "**11.8 Si viviera en Alaska, ¿cuál de los siguientes gases naturales almacenaría en un tanque a la intemperie durante el invierno: metano (CH4), propano (C3H8) o butano (C4H10)? Justifique su respuesta**"
      ],
      "metadata": {
        "id": "0UXN7U6t6sgM"
      }
    },
    {
      "cell_type": "markdown",
      "source": [
        "El propano (C3H8) es el gas natural que  almacenaría en un tanque a la intemperie en Alaska durante el invierno.\n",
        "\n",
        "La masa molar del propano es mayor que la del metano y el butano, lo que indica que sus moléculas son más pesadas y tienen una mayor atracción intermolecular.\n",
        "\n",
        "Debido a su mayor tamaño y forma, las moléculas de propano tienen fuerzas de Van der Waals más fuertes que las del metano y el butano.\n",
        "\n",
        "Las fuerzas intermoleculares influyen en la volatilidad de los gases a temperaturas más bajas. El propano es menos propenso an evaporarse rápidamente en condiciones frías porque tiene una menor volatilidad que el metano y el butano.\n",
        "\n",
        "Por lo tanto, el propano es la mejor opción para almacenar en un tanque al aire libre durante el invierno en Alaska debido a su menor tendencia a evaporarse y su mayor estabilidad.\n",
        "\n",
        "\n"
      ],
      "metadata": {
        "id": "IVcDCSRr6tqt"
      }
    },
    {
      "cell_type": "markdown",
      "source": [
        "##**Propiedades de los líquidos**"
      ],
      "metadata": {
        "id": "l_-MigUS-49C"
      }
    },
    {
      "cell_type": "markdown",
      "source": [
        "**11.21 ¿Por qué los líquidos, a diferencia de los gases, son prácticamente incompresibles?**"
      ],
      "metadata": {
        "id": "juEHH3f2-4yM"
      }
    },
    {
      "cell_type": "markdown",
      "source": [
        "Los líquidos son prácticamente incompresibles en comparación con los gases debido a sus propiedades moleculares y estructurales. Aquí están las razones:\n",
        "\n",
        "1. Distancia entre moléculas: En comparación con los gases, las moléculas en líquidos están más cerca unas de otras. La compresión de líquidos es más difícil debido a la menor distancia intermolecular.\n",
        "\n",
        "2. Fuerzas intermoleculares: En comparación con los gases, los líquidos tienen fuerzas intermoleculares más fuertes. Las fuerzas como los enlaces de hidrógeno o las fuerzas de Van der Waals mantienen las moléculas unidas y dificultan la compresión.\n",
        "\n",
        "3. Estructura ordenada: En comparación con los gases, los líquidos tienen una estructura más ordenada. La incompresibilidad de un líquido se debe a la disposición de sus moléculas en una red tridimensional.\n",
        "\n",
        "4. Densidad constante: La densidad de un líquido apenas cambia a medida que se comprime.\n",
        "\n",
        "\n"
      ],
      "metadata": {
        "id": "XBp0hI9U-620"
      }
    },
    {
      "cell_type": "markdown",
      "source": [
        "**11.22 ¿Qué es la tensión superficial? ¿Qué relación existe entre esta propiedad y las fuerzas intermoleculares? ¿Cómo cambia la tensión superficial con la temperatura?**"
      ],
      "metadata": {
        "id": "8py1w2sfA0JE"
      }
    },
    {
      "cell_type": "markdown",
      "source": [
        "La fuerza que actúa en la superficie de un líquido debido a las fuerzas intermoleculares entre las moléculas en la superficie se conoce como tensión superficial. Esta fuerza tiende a reducir la superficie, lo que hace que la superficie del líquido parezca \"tensa\" o \"estirada\".\n",
        "\n",
        "Las fuerzas intermoleculares están directamente relacionadas con la tensión superficial.\n",
        "En los líquidos, las moléculas dentro están rodeadas por otras moléculas en todas las direcciones, lo que crea una fuerza neta en la superficie.\n",
        "Esta tensión superficial es causada por fuerzas intermoleculares como los enlaces de hidrógeno y las fuerzas de Van der Waals.\n",
        "\n",
        "La tensión superficial disminuye con la temperatura.\n",
        "Las moléculas tienen más energía cinética y pueden superar más fácilmente las fuerzas intermoleculares en la superficie a temperaturas más altas.\n"
      ],
      "metadata": {
        "id": "7lsRVKWnA12i"
      }
    },
    {
      "cell_type": "markdown",
      "source": [
        "**11.23 A pesar de que el acero inoxidable es mucho más denso que el agua, una navaja de afeitar de acero inoxidable puede flotar en el agua. ¿Por qué?**"
      ],
      "metadata": {
        "id": "EMOEsQTdGf4T"
      }
    },
    {
      "cell_type": "markdown",
      "source": [
        "Un objeto se coloca en el agua y su peso se extiende sobre la superficie del líquido. El objeto puede flotar si es lo suficientemente ligero y su forma permite una distribución equilibrada de esta fuerza. La forma plana y el peso relativamente bajo de una navaja de afeitar permiten que la tensión superficial del agua la sostenga."
      ],
      "metadata": {
        "id": "lLz8mCr8GfiI"
      }
    },
    {
      "cell_type": "markdown",
      "source": [
        "**11.24 Utilice el agua y el mercurio como ejemplos para explicar la adhesión y la cohesión.**"
      ],
      "metadata": {
        "id": "2lHKN1YZKOAV"
      }
    },
    {
      "cell_type": "markdown",
      "source": [
        "El agua es una molécula polar con distribución desigual de cargas eléctricas. Forma enlaces de hidrógeno con otras moléculas polares, como las del vidrio. Su alta fuerza de adhesión al vidrio hace que se pegue a las paredes de un tubo o recipiente. Además, tiene una alta fuerza de cohesión con otras moléculas de agua debido a los múltiples enlaces de hidrógeno que puede establecer, lo que le confiere propiedades como la tensión superficial, la capilaridad y el menisco cóncavo.\n",
        "\n",
        "El mercurio es una molécula no polar con distribución uniforme de cargas eléctricas. Esto le impide formar enlaces de hidrógeno con otras moléculas, y solo se mantiene unido por fuerzas débiles de Van der Waals. Tiene baja fuerza de adhesión con el vidrio, lo que hace que se separe de las paredes de un tubo o recipiente. Además, su baja fuerza de cohesión con otras moléculas de mercurio, debido a la poca intensidad de las fuerzas de Van der Waals, le confiere propiedades como la baja tensión superficial, la incapacidad para ascender por capilaridad y el menisco convexo.\n"
      ],
      "metadata": {
        "id": "IVXAaI_IGfMc"
      }
    },
    {
      "cell_type": "markdown",
      "source": [
        "##**Soluciones**"
      ],
      "metadata": {
        "id": "Uab6lK8maO9o"
      }
    },
    {
      "cell_type": "markdown",
      "source": [
        "**12.3 Describa brevemente el proceso de disolución a nivel molecular. Utilice como ejemplo la disolución de un sólido en un líquido.**"
      ],
      "metadata": {
        "id": "zUjk4DY_Npph"
      }
    },
    {
      "cell_type": "markdown",
      "source": [
        "La disolución de un soluto en un disolvente consta de tres etapas:\n",
        "\n",
        "1. Separación de moléculas: Se rompen las fuerzas de atracción intermoleculares que mantienen unidas las partículas del soluto (sólido) y del disolvente (líquido). Esto requiere energía y es endotérmico.\n",
        "\n",
        "2. Dispersión de moléculas: Las partículas del soluto se distribuyen entre las del disolvente, formando una mezcla homogénea. La liberación o absorción de energía depende de las interacciones entre el soluto y el disolvente. Si las fuerzas de atracción son mayores entre ellos que las que existían entre el soluto y el soluto o entre el disolvente y el disolvente, la etapa es exotérmica. Si son menores, la etapa es endotérmica.\n",
        "\n",
        "3. Equilibrio: La velocidad a la que las moléculas del soluto se separan del sólido y se dispersan en el líquido se iguala a la velocidad a la que se unen al sólido y salen del líquido. La concentración del soluto en el líquido se mantiene constante, y se dice que la solución está saturada.\n",
        "\n",
        "La disolución de sal (NaCl) en agua (H2O) es un ejemplo de cómo un sólido se disuelve en un líquido. Las moléculas de agua son polares, lo que les permite formar enlaces de hidrógeno con otras moléculas polares. Los iones de sodio (Na+) y cloruro (Cl-) que forman la sal también son polares. Cuando se añade sal al agua, las moléculas de agua rodean a los iones de sodio y cloruro, separándolos del cristal de sal y dispersándolos en la solución. Las fuerzas de atracción entre los iones y las moléculas de agua son mayores que las que existían entre los iones y los iones o entre las moléculas de agua y las moléculas de agua, por lo que se libera energía y la disolución es exotérmica. El proceso continúa hasta que se alcanza el equilibrio y la solución está saturada"
      ],
      "metadata": {
        "id": "B1SdbOzaNm0-"
      }
    },
    {
      "cell_type": "markdown",
      "source": [
        "**12.4 A partir de las fuerzas intermoleculares, explique el significado de “lo semejante disuelve lo semejante”.**"
      ],
      "metadata": {
        "id": "CZJ_JHwUU8tV"
      }
    },
    {
      "cell_type": "markdown",
      "source": [
        "El significado de \"lo semejante disuelve lo semejante\" significa que sustancias con fuerzas intermoleculares similares sean solubles entre sí, mientras que sustancias con fuerzas diferentes sean insolubles. El agua es una molécula polar con una distribución desigual de cargas eléctricas, lo que permite formar enlaces de hidrógeno con otros polares. El etanol es una molécula polar con un grupo hidroxilo (-OH) que puede formar enlaces de hidrógeno con otros polares. El aceite es una molécula no polar con una distribución uniforme de cargas eléctricas, lo que impide formar enlaces de hidrógeno con otros moléculas."
      ],
      "metadata": {
        "id": "iP9hbJjPU_es"
      }
    },
    {
      "cell_type": "markdown",
      "source": [
        "**12.9 ¿Por qué el naftaleno (C10H8) es más soluble en benceno que el CsF?**\n",
        "\n"
      ],
      "metadata": {
        "id": "blY5wevFC3BY"
      }
    },
    {
      "cell_type": "code",
      "source": [
        "!pip install pubchempy\n",
        "!pip install rdkit\n",
        "\n",
        "import pubchempy as pcp\n",
        "\n",
        "from rdkit.Chem import MolFromSmiles\n",
        "from rdkit import Chem\n",
        "from rdkit.Chem import Draw\n",
        "from rdkit.Chem.Draw import IPythonConsole\n",
        "from rdkit.Chem import Descriptors\n",
        "from rdkit.Chem import AllChem\n",
        "from rdkit import DataStructs\n",
        "moleculas = ['C1=CC2=CC=CC=C2C=C1', 'C1=CC=CC=C1']\n",
        "\n",
        "uno = []\n",
        "\n",
        "for i in moleculas:\n",
        "  mol = Chem.MolFromSmiles(i)\n",
        "  uno.append(mol)\n",
        "Chem.Draw.MolsToGridImage(uno)"
      ],
      "metadata": {
        "colab": {
          "base_uri": "https://localhost:8080/",
          "height": 291
        },
        "id": "PmPEVhu9VnqI",
        "outputId": "9f8ba4db-4eaf-4842-d100-e81ebe7d0e3f"
      },
      "execution_count": 12,
      "outputs": [
        {
          "output_type": "stream",
          "name": "stdout",
          "text": [
            "Requirement already satisfied: pubchempy in /usr/local/lib/python3.10/dist-packages (1.0.4)\n",
            "Requirement already satisfied: rdkit in /usr/local/lib/python3.10/dist-packages (2023.9.1)\n",
            "Requirement already satisfied: numpy in /usr/local/lib/python3.10/dist-packages (from rdkit) (1.23.5)\n",
            "Requirement already satisfied: Pillow in /usr/local/lib/python3.10/dist-packages (from rdkit) (9.4.0)\n"
          ]
        },
        {
          "output_type": "execute_result",
          "data": {
            "image/png": "[encoded data removed]",
            "text/plain": [
              "<IPython.core.display.Image object>"
            ]
          },
          "metadata": {},
          "execution_count": 12
        }
      ]
    },
    {
      "cell_type": "markdown",
      "source": [
        "El **naftaleno** (C10H8) es más soluble en **benceno** (C6H6) debido a las siguientes razones:\n",
        "\n",
        "1. **Estructura molecular**: El naftaleno y el benceno tienen estructuras moleculares similares. Ambos son hidrocarburos aromáticos con anillos de carbono unidos por enlaces π. La similitud en la estructura facilita la solubilidad.\n",
        "\n",
        "2. **Fuerzas intermoleculares**: Las fuerzas de **dispersión de London** (fuerzas de Van der Waals) son las principales responsables de la solubilidad. En el benceno, estas fuerzas son más fuertes debido a su mayor tamaño y mayor cantidad de electrones π en su anillo. Por lo tanto, el naftaleno se disuelve mejor en el benceno.\n",
        "\n",
        "3. **Tamaño y forma**: El naftaleno es más grande que el benceno debido a su estructura bicíclica. La mayor superficie del naftaleno permite una mayor interacción con las moléculas de benceno, lo que aumenta su solubilidad.\n",
        "\n",
        "En resumen, la similitud estructural y las fuerzas intermoleculares favorecen la solubilidad del naftaleno en el benceno."
      ],
      "metadata": {
        "id": "Ftj9KH-0C2nS"
      }
    },
    {
      "cell_type": "markdown",
      "source": [
        "**12.10 Explique por qué el etano (C2H5OH) no es soluble en ciclohexano (C6H12).**"
      ],
      "metadata": {
        "id": "-5WvGGz8YgmZ"
      }
    },
    {
      "cell_type": "code",
      "source": [
        "!pip install pubchempy\n",
        "!pip install rdkit\n",
        "\n",
        "import pubchempy as pcp\n",
        "\n",
        "from rdkit.Chem import MolFromSmiles\n",
        "from rdkit import Chem\n",
        "from rdkit.Chem import Draw\n",
        "from rdkit.Chem.Draw import IPythonConsole\n",
        "from rdkit.Chem import Descriptors\n",
        "from rdkit.Chem import AllChem\n",
        "moleculas2 = ['CCO', 'C1CCCCC1']\n",
        "\n",
        "dos = []\n",
        "\n",
        "for i in moleculas2:\n",
        "  mol = Chem.MolFromSmiles(i)\n",
        "  dos.append(mol)\n",
        "Chem.Draw.MolsToGridImage(dos)"
      ],
      "metadata": {
        "colab": {
          "base_uri": "https://localhost:8080/",
          "height": 291
        },
        "id": "oKOg5lSGYjl7",
        "outputId": "5abd5873-f97e-453e-abb3-6aa3130a4df9"
      },
      "execution_count": 14,
      "outputs": [
        {
          "output_type": "stream",
          "name": "stdout",
          "text": [
            "Requirement already satisfied: pubchempy in /usr/local/lib/python3.10/dist-packages (1.0.4)\n",
            "Requirement already satisfied: rdkit in /usr/local/lib/python3.10/dist-packages (2023.9.1)\n",
            "Requirement already satisfied: numpy in /usr/local/lib/python3.10/dist-packages (from rdkit) (1.23.5)\n",
            "Requirement already satisfied: Pillow in /usr/local/lib/python3.10/dist-packages (from rdkit) (9.4.0)\n"
          ]
        },
        {
          "output_type": "execute_result",
          "data": {
            "image/png": "[encoded data removed]",
            "text/plain": [
              "<IPython.core.display.Image object>"
            ]
          },
          "metadata": {},
          "execution_count": 14
        }
      ]
    },
    {
      "cell_type": "markdown",
      "source": [
        "El etanol (C2H5OH) es una molécula polar, ya que tiene un grupo hidroxilo (-OH) que forma enlaces de hidrógeno con otras moléculas polares, como el agua. El ciclohexano (C6H12) es una molécula no polar, ya que tiene solo átomos de carbono e hidrógeno unidos por enlaces covalentes simples. Estos átomos tienen una electronegatividad similar, lo que significa que comparten los electrones de manera equitativa.\n",
        "\n",
        "La regla general para la solubilidad es que “lo semejante disuelve a lo semejante”, es decir, que las moléculas polares se disuelven en solventes polares y las moléculas no polares se disuelven en solventes no polares. Por lo tanto, el etanol no es soluble en ciclohexano, ya que son moléculas de diferente polaridad y no pueden interactuar entre sí."
      ],
      "metadata": {
        "id": "EuQ5jFG6YdSd"
      }
    },
    {
      "cell_type": "markdown",
      "source": [
        "##**Unidades de concentración**"
      ],
      "metadata": {
        "id": "SsuhQaJabYz5"
      }
    },
    {
      "cell_type": "markdown",
      "source": [
        "**12.13 Defina los siguientes términos de concentración y especifique sus unidades: “porcentaje en masa”, “fracción molar”, “molaridad” y “molalidad”. Compare sus ventajas y sus desventajas.**"
      ],
      "metadata": {
        "id": "W4R3pLN42016"
      }
    },
    {
      "cell_type": "markdown",
      "source": [
        "- El porcentaje en masa es la relación de la masa de un soluto en la masa de la disolución, multiplicado por 100%. Se expresa como gramos de soluto por cada 100 gramos de disolución. Una ventaja de esta unidad es que es fácil de medir y no depende de la temperatura. Una desventaja es que no indica la cantidad de sustancia en términos de moles, que es más útil para las reacciones químicas.\n",
        "\n",
        "- La fracción molar es el número de moles de un componente en relación con el número total de moles que componen la disolución. Se expresa como una fracción adimensional. Una ventaja de esta unidad es que se puede usar para calcular las propiedades coligativas de las disoluciones, como la presión de vapor, el punto de ebullición y el punto de congelación. Una desventaja es que requiere conocer el número de moles de cada componente, lo que puede ser difícil de medir.\n",
        "\n",
        "- La molaridad es el número de moles de soluto por litro de solución. Se expresa como moles por litro (mol/L) o molar (M). Una ventaja de esta unidad es que se relaciona directamente con las ecuaciones estequiométricas y las constantes de equilibrio. Una desventaja es que depende del volumen de la solución, que puede variar con la temperatura y la presión.\n",
        "\n",
        "- La molalidad es el número de moles de soluto por kilogramo de solvente. Se expresa como moles por kilogramo (mol/kg) o molal (m). Una ventaja de esta unidad es que no depende del volumen ni de la temperatura, sino solo de la masa del solvente. Una desventaja es que puede ser difícil determinar la masa exacta del solvente, especialmente si se trata de un líquido volátil o impuro.\n"
      ],
      "metadata": {
        "id": "c5IthSmi2KCM"
      }
    },
    {
      "cell_type": "markdown",
      "source": [
        "**12.15 Calcule el porcentaje en masa de soluto en cada una de las siguientes disoluciones acuosas:**\n",
        "- **a) 5,50 g de NaBr en 78,2 g de disolución**\n",
        "- **b) 31,0 g de KCl en 152,9 g de agua**\n",
        "- **c) 4,5 g de tolueno en 29 g de benceno.**"
      ],
      "metadata": {
        "id": "qhQR_Rvabaz8"
      }
    },
    {
      "cell_type": "code",
      "source": [
        "def A():\n",
        "  sto = 5.50\n",
        "  sol = 78.2\n",
        "  print(\"a) \", round((sto/sol)*100,2), \"%\")\n",
        "\n",
        "def B():\n",
        "  sto = 31\n",
        "  sol = 31.0 + 152\n",
        "  print(\"b) \", round((sto/sol)*100,2), \"%\")\n",
        "\n",
        "def C():\n",
        "  sto = 4.5\n",
        "  sol = 4.5 + 29\n",
        "  print(\"c) \", round((sto/sol)*100,2), \"%\")\n",
        "\n",
        "A()\n",
        "B()\n",
        "C()"
      ],
      "metadata": {
        "colab": {
          "base_uri": "https://localhost:8080/"
        },
        "id": "FtMjA7MRbkeF",
        "outputId": "0e569e53-b4f9-49f9-ea12-cf14e4262045"
      },
      "execution_count": 35,
      "outputs": [
        {
          "output_type": "stream",
          "name": "stdout",
          "text": [
            "a)  7.03 %\n",
            "b)  16.94 %\n",
            "c)  13.43 %\n"
          ]
        }
      ]
    },
    {
      "cell_type": "markdown",
      "source": [
        "**12.16 Calcule la cantidad de agua (en gramos) que se debe agregar a:**\n",
        "- **a)5,00 g de urea (NH2)2CO para preparar una disolución al 16.2% en masa**  \n",
        "- **b)26.2 g de MgCl2 para preparar una disolución al 1.5% en masa.**"
      ],
      "metadata": {
        "id": "QiEJfQEigAnK"
      }
    },
    {
      "cell_type": "code",
      "source": [
        "def A():\n",
        "  sto = 5\n",
        "  porc = 0.162\n",
        "  print(\"a) \", round((sto/porc)-sto,2), \"ml\")\n",
        "\n",
        "def B():\n",
        "  sto = 26.2\n",
        "  porc = 0.015\n",
        "  print(\"b) \", round((sto/porc)-sto,2), \"ml\")\n",
        "\n",
        "\n",
        "A()\n",
        "B()"
      ],
      "metadata": {
        "colab": {
          "base_uri": "https://localhost:8080/"
        },
        "id": "YDb0P03hgBpg",
        "outputId": "bb5c77e3-e542-4788-c07e-78039b5a7135"
      },
      "execution_count": 41,
      "outputs": [
        {
          "output_type": "stream",
          "name": "stdout",
          "text": [
            "a)  25.86 ml\n",
            "b)  1720.47 ml\n"
          ]
        }
      ]
    },
    {
      "cell_type": "markdown",
      "source": [
        "**12.17 Calcula la molalidad de cada una de las siguientes disoluciones:**\n",
        "- **a) 14.3 g de sacarosa (C12H22O11) en 676 g de agua**\n",
        "- **b) 7.20 moles de etilenglicol (C2H6O2) en 3546 g de agua.**\n"
      ],
      "metadata": {
        "id": "Wsd-CkDFiczL"
      }
    },
    {
      "cell_type": "code",
      "source": [
        "def A():\n",
        "  n_sto = 14.3 / (12*12 + 22*1 + 11*16)\n",
        "  m_ste = 0.676\n",
        "  print(\"a)La molalidad es \", round((n_sto/m_ste),2))\n",
        "\n",
        "def B():\n",
        "  n_sto = 7.2\n",
        "  m_ste = 3.546\n",
        "  print(\"b)La molalidad es \", round((n_sto/m_ste),2))\n",
        "\n",
        "\n",
        "A()\n",
        "B()"
      ],
      "metadata": {
        "colab": {
          "base_uri": "https://localhost:8080/"
        },
        "id": "WIBACOvkifXQ",
        "outputId": "e78671c9-241e-4a83-84d2-1b7dccfedc33"
      },
      "execution_count": 77,
      "outputs": [
        {
          "output_type": "stream",
          "name": "stdout",
          "text": [
            "a)La molalidad es  0.06\n",
            "b)La molalidad es  2.03\n"
          ]
        }
      ]
    },
    {
      "cell_type": "markdown",
      "source": [
        "**12.18 Calcule la disolución de:**\n",
        "- **a)NaCl en 2.50 M (densidad de la disolución = 1.08 g/mL)**\n",
        "- **b) disolución de KBr al 48.2% en masa**\n"
      ],
      "metadata": {
        "id": "6Ioojmc2kJHc"
      }
    },
    {
      "cell_type": "code",
      "source": [
        "def A():\n",
        "  m_NaCl = 58.44\n",
        "  n_sto = 2.5 * 1\n",
        "  m_sol = (1.08 * 1000)\n",
        "  m_ste = (m_sol - n_sto*m_NaCl)/1000\n",
        "  print(\"a)La molalidad es \", round(n_sto/m_ste, 2))\n",
        "\n",
        "def B():\n",
        "  m_KBr = 119.002\n",
        "  m_sto = 100 * 0.482\n",
        "  n_sto = m_sto/m_KBr\n",
        "  m_ste = (100 - m_sto)/1000\n",
        "  print(\"b)La molalidad es \", round(n_sto/m_ste, 2))\n",
        "\n",
        "\n",
        "A()\n",
        "B()"
      ],
      "metadata": {
        "colab": {
          "base_uri": "https://localhost:8080/"
        },
        "id": "WwQ9fh-zkKDp",
        "outputId": "5f20a106-3913-48f4-d163-72fdd94ff37f"
      },
      "execution_count": 85,
      "outputs": [
        {
          "output_type": "stream",
          "name": "stdout",
          "text": [
            "a)La molalidad es  2.68\n",
            "b)La molalidad es  7.82\n"
          ]
        }
      ]
    },
    {
      "cell_type": "markdown",
      "source": [
        "**12.19 Calcule la molalidad de cada una de las siguientes disoluciones:**\n",
        "- **a) disolución de azúcar (C12H22O11) 1.22 M (densidad de la disolución = 1.12 g/mL)**\n",
        "- **b) disolución de NaOH 0.87 M (densidad de la disolución = 1.04 g/mL).**\n",
        "- **c) disolución de NaHCO3 5.24 M (densidad de la disolución = 1.19 g/mL).**"
      ],
      "metadata": {
        "id": "MxdnwwAwy1x5"
      }
    },
    {
      "cell_type": "code",
      "source": [
        "def A():\n",
        "  m_CHO = 342.2965\n",
        "  n_sto = 1.22 * 1\n",
        "  m_sol = (1.12 * 1000)\n",
        "  m_ste = (m_sol - n_sto*m_CHO)/1000\n",
        "  print(\"a)La molalidad es \", round(n_sto/m_ste, 2))\n",
        "\n",
        "def B():\n",
        "  m_NaOH = 39.99711\n",
        "  n_sto = 0.87 * 1\n",
        "  m_sol = (1.04 * 1000)\n",
        "  m_ste = (m_sol - n_sto*m_NaOH)/1000\n",
        "  print(\"b)La molalidad es \", round(n_sto/m_ste, 2))\n",
        "\n",
        "def C():\n",
        "  m_NaHCO = 84.0066\n",
        "  n_sto = 5.24 * 1\n",
        "  m_sol = (1.19 * 1000)\n",
        "  m_ste = (m_sol - n_sto*m_NaHCO)/1000\n",
        "  print(\"c)La molalidad es \", round(n_sto/m_ste, 2))\n",
        "\n",
        "A()\n",
        "B()\n",
        "C()"
      ],
      "metadata": {
        "colab": {
          "base_uri": "https://localhost:8080/"
        },
        "id": "5cC0rwzoy3DN",
        "outputId": "8d725315-7bb0-46a9-f1b6-ae97c461ca91"
      },
      "execution_count": 84,
      "outputs": [
        {
          "output_type": "stream",
          "name": "stdout",
          "text": [
            "a)La molalidad es  1.74\n",
            "b)La molalidad es  0.87\n",
            "c)La molalidad es  6.99\n"
          ]
        }
      ]
    },
    {
      "cell_type": "markdown",
      "source": [
        "##**Efecto de la temperatura en la solubilidad**"
      ],
      "metadata": {
        "id": "3jGr_wQM4ZP6"
      }
    },
    {
      "cell_type": "markdown",
      "source": [
        "**12.27 Una muestra de 3.20 g de una sal se disuelve en 9.10 g de agua para formar una disolución saturada a 25°C. ¿Cual es la solubilidad (en g de sal/100 g de H2O) de la sal?**"
      ],
      "metadata": {
        "id": "ZBiUmTNA4bls"
      }
    },
    {
      "cell_type": "code",
      "source": [
        "m_sal = 3.20\n",
        "m_agua = 9.10\n",
        "\n",
        "solu = (m_sal/m_agua)*100\n",
        "\n",
        "print(\"La solubilidad de la sal es \", round(solu, 2) , \"g de sal/100g de agua\")"
      ],
      "metadata": {
        "colab": {
          "base_uri": "https://localhost:8080/"
        },
        "id": "azkys5uR4dCk",
        "outputId": "a0b67f9e-40e1-4141-9a73-58c06d9ea3a2"
      },
      "execution_count": 89,
      "outputs": [
        {
          "output_type": "stream",
          "name": "stdout",
          "text": [
            "La solubilidad de la sal es  35.16 g de sal/100g de agua\n"
          ]
        }
      ]
    }
  ]
}